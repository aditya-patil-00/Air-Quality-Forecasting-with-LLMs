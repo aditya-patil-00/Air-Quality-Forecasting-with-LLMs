{
  "cells": [
    {
      "cell_type": "code",
      "execution_count": null,
      "metadata": {
        "id": "3K6jaWNENS8K"
      },
      "outputs": [],
      "source": [
        "import torch\n",
        "import torch.nn as nn\n",
        "import numpy as np\n",
        "import pandas as pd\n",
        "import matplotlib.pyplot as plt\n",
        "from sklearn.preprocessing import MinMaxScaler\n"
      ]
    },
    {
      "cell_type": "code",
      "execution_count": null,
      "metadata": {
        "id": "LMW5myCcNY0J"
      },
      "outputs": [],
      "source": [
        "df = pd.read_csv('ITO_2years.csv')\n",
        "df = df[:10000]"
      ]
    },
    {
      "cell_type": "code",
      "execution_count": null,
      "metadata": {
        "id": "WJj7V30KNY2u"
      },
      "outputs": [],
      "source": [
        "scaler = MinMaxScaler(feature_range=(0, 1))\n",
        "df['values_normalized'] = scaler.fit_transform(df[['value']])"
      ]
    },
    {
      "cell_type": "code",
      "execution_count": null,
      "metadata": {
        "id": "v582ZdIINY5W"
      },
      "outputs": [],
      "source": [
        "def create_sequences(data, seq_length):\n",
        "    sequences = []\n",
        "    for i in range(len(data) - seq_length):\n",
        "        seq = data[i:i + seq_length]\n",
        "        sequences.append(seq)\n",
        "    return np.array(sequences)\n",
        "\n",
        "seq_length = 10\n",
        "X = create_sequences(df['values_normalized'].values, seq_length)\n"
      ]
    },
    {
      "cell_type": "code",
      "execution_count": null,
      "metadata": {
        "id": "OxLRC_4eNY8L"
      },
      "outputs": [],
      "source": [
        "split_percentage = 0.8\n",
        "split_index = int(split_percentage * len(X))\n",
        "\n",
        "X_train, X_test = X[:split_index], X[split_index:]\n",
        "\n",
        "y_train = df['values_normalized'][seq_length:split_index].values\n",
        "y_train = torch.Tensor(y_train)\n",
        "y_train = y_train.view(-1, 1)"
      ]
    },
    {
      "cell_type": "code",
      "execution_count": null,
      "metadata": {
        "colab": {
          "background_save": true,
          "base_uri": "https://localhost:8080/"
        },
        "id": "s8O6nBAHNY-K",
        "outputId": "6bba47a3-e222-46b9-b607-57e1e51da268"
      },
      "outputs": [
        {
          "name": "stdout",
          "output_type": "stream",
          "text": [
            "Epoch [1/20], Loss: 0.0011031644626954763\n",
            "Epoch [2/20], Loss: 0.0003165395022477592\n",
            "Epoch [3/20], Loss: 0.00025162522232594374\n",
            "Epoch [4/20], Loss: 0.00023679357100429746\n",
            "Epoch [5/20], Loss: 0.00022745968158664927\n",
            "Epoch [6/20], Loss: 0.00024145813913128606\n",
            "Epoch [7/20], Loss: 0.00022195012200848987\n",
            "Epoch [8/20], Loss: 0.0002219026103750592\n",
            "Epoch [9/20], Loss: 0.00022002115939722246\n",
            "Epoch [10/20], Loss: 0.00020787524516911247\n",
            "Epoch [11/20], Loss: 0.00020935047490675682\n",
            "Epoch [12/20], Loss: 0.00020707354437014117\n",
            "Epoch [13/20], Loss: 0.00020608834904844515\n",
            "Epoch [14/20], Loss: 0.00020000322262566793\n",
            "Epoch [15/20], Loss: 0.00019207357390385203\n",
            "Epoch [16/20], Loss: 0.00019957560094396848\n",
            "Epoch [17/20], Loss: 0.00019412081434765186\n",
            "Epoch [18/20], Loss: 0.00019169684877804743\n",
            "Epoch [19/20], Loss: 0.0001895683039916655\n",
            "Epoch [20/20], Loss: 0.00019455474787767897\n"
          ]
        }
      ],
      "source": [
        "class LSTMModel(nn.Module):\n",
        "    def __init__(self, input_size=1, hidden_layer_size=100, output_size=1):\n",
        "        super().__init__()\n",
        "        self.hidden_layer_size = hidden_layer_size\n",
        "        self.lstm = nn.LSTM(input_size, hidden_layer_size)\n",
        "        self.linear = nn.Linear(hidden_layer_size, output_size)\n",
        "        self.hidden_cell = (torch.zeros(1, 1, self.hidden_layer_size),\n",
        "                            torch.zeros(1, 1, self.hidden_layer_size))\n",
        "\n",
        "    def forward(self, input_seq):\n",
        "        lstm_out, self.hidden_cell = self.lstm(input_seq.view(len(input_seq), 1, -1), self.hidden_cell)\n",
        "        predictions = self.linear(lstm_out.view(len(input_seq), -1))\n",
        "        return predictions[-1]\n",
        "\n",
        "model = LSTMModel()\n",
        "loss_function = nn.MSELoss()\n",
        "optimizer = torch.optim.Adam(model.parameters(), lr=0.001)\n",
        "\n",
        "epochs = 20\n",
        "\n",
        "for epoch in range(epochs):\n",
        "    epoch_loss = 0.0  # Initialize epoch_loss for each epoch\n",
        "    for seq, label in zip(X_train, y_train):\n",
        "        optimizer.zero_grad()\n",
        "        model.hidden_cell = (torch.zeros(1, 1, model.hidden_layer_size),\n",
        "                             torch.zeros(1, 1, model.hidden_layer_size))\n",
        "\n",
        "        y_pred = model(torch.Tensor(seq))\n",
        "        single_loss = loss_function(y_pred, torch.Tensor([label]))\n",
        "        single_loss.backward()\n",
        "        optimizer.step()\n",
        "\n",
        "        epoch_loss += single_loss.item()\n",
        "\n",
        "    # Display loss after each epoch\n",
        "    print(f'Epoch [{epoch + 1}/{epochs}], Loss: {epoch_loss / len(X_train)}')"
      ]
    },
    {
      "cell_type": "code",
      "execution_count": 38,
      "metadata": {
        "id": "dOXGhH_na0XW",
        "colab": {
          "base_uri": "https://localhost:8080/"
        },
        "outputId": "2dce5648-f20f-4ff1-e530-a5dbd8470fa5"
      },
      "outputs": [
        {
          "output_type": "execute_result",
          "data": {
            "text/plain": [
              "array([[24.03291112],\n",
              "       [24.33864104],\n",
              "       [25.52342305],\n",
              "       ...,\n",
              "       [52.69601645],\n",
              "       [41.05990922],\n",
              "       [27.905993  ]])"
            ]
          },
          "metadata": {},
          "execution_count": 38
        }
      ],
      "source": [
        "test_inputs = torch.Tensor(X_test)\n",
        "predictions = []\n",
        "\n",
        "for i in range(len(X_test)):\n",
        "    with torch.no_grad():\n",
        "        model.hidden = (torch.zeros(1, 1, model.hidden_layer_size),\n",
        "                        torch.zeros(1, 1, model.hidden_layer_size))\n",
        "        predictions.append(model(test_inputs[i]).item())\n",
        "\n",
        "predicted_pm25 = scaler.inverse_transform(np.array(predictions).reshape(-1, 1))\n",
        "predicted_pm25"
      ]
    },
    {
      "cell_type": "code",
      "source": [
        "mse = np.mean(np.square(df['value'][split_index + seq_length:] - predicted_pm25.flatten()))\n",
        "print(f'Mean Squared Error: {mse}')"
      ],
      "metadata": {
        "colab": {
          "base_uri": "https://localhost:8080/"
        },
        "id": "X_IXFKHXcWhs",
        "outputId": "149bb3e4-784e-4674-9d72-43db781b5d55"
      },
      "execution_count": 40,
      "outputs": [
        {
          "output_type": "stream",
          "name": "stdout",
          "text": [
            "Mean Squared Error: 350.11142740103384\n"
          ]
        }
      ]
    },
    {
      "cell_type": "code",
      "source": [
        "actual_pm25 = df['value'][split_index + seq_length:].values\n",
        "\n",
        "# Plotting\n",
        "plt.figure(figsize=(10, 6))\n",
        "plt.plot(df['day'][split_index + seq_length:], actual_pm25, label='Actual PM2.5')\n",
        "plt.plot(df['day'][split_index + seq_length:], predicted_pm25, label='Predicted PM2.5')\n",
        "plt.title('Actual vs Predicted PM2.5 Values')\n",
        "plt.xlabel('day')\n",
        "plt.ylabel('PM2.5 Value')\n",
        "plt.legend()\n",
        "plt.show()"
      ],
      "metadata": {
        "colab": {
          "base_uri": "https://localhost:8080/",
          "height": 564
        },
        "id": "4bEum1ldd-TJ",
        "outputId": "96b97e4d-9ac0-4c5c-ea7a-502a5f006ae2"
      },
      "execution_count": 44,
      "outputs": [
        {
          "output_type": "display_data",
          "data": {
            "text/plain": [
              "<Figure size 1000x600 with 1 Axes>"
            ],
            "image/png": "[encoded data removed]"
          },
          "metadata": {}
        }
      ]
    }
  ],
  "metadata": {
    "colab": {
      "provenance": []
    },
    "kernelspec": {
      "display_name": "Python 3",
      "name": "python3"
    },
    "language_info": {
      "name": "python"
    }
  },
  "nbformat": 4,
  "nbformat_minor": 0
}